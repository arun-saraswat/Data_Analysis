{
  "nbformat": 4,
  "nbformat_minor": 0,
  "metadata": {
    "colab": {
      "private_outputs": true,
      "provenance": [],
      "toc_visible": true,
      "include_colab_link": true
    },
    "kernelspec": {
      "name": "python3",
      "display_name": "Python 3"
    },
    "language_info": {
      "name": "python"
    }
  },
  "cells": [
    {
      "cell_type": "markdown",
      "metadata": {
        "id": "view-in-github",
        "colab_type": "text"
      },
      "source": [
        "<a href=\"https://colab.research.google.com/github/arun-saraswat/Data_Analysis/blob/main/Airbnb_Booking_Analysis_EDA.ipynb\" target=\"_parent\"><img src=\"https://colab.research.google.com/assets/colab-badge.svg\" alt=\"Open In Colab\"/></a>"
      ]
    },
    {
      "cell_type": "markdown",
      "source": [
        "# **Project Name**    -\n",
        "\n"
      ],
      "metadata": {
        "id": "vncDsAP0Gaoa"
      }
    },
    {
      "cell_type": "markdown",
      "source": [
        "##### **Project Type**    - Airbnb Booking Analysis EDA\n",
        "##### **Contribution**    - Individual\n"
      ],
      "metadata": {
        "id": "beRrZCGUAJYm"
      }
    },
    {
      "cell_type": "markdown",
      "source": [
        "# **Project Summary -**"
      ],
      "metadata": {
        "id": "FJNUwmbgGyua"
      }
    },
    {
      "cell_type": "markdown",
      "source": [
        "\n",
        "\n",
        "Since 2008, guests and hosts have used Airbnb to expand on traveling possibilities and present a more unique, personalized way of experiencing the world. Today, Airbnb became one of a kind service that is used and recognized by the whole world. Data analysis on millions of listings provided through Airbnb is a crucial factor for the company. These millions of listings generate a lot of data - data that can be analyzed and used for security, business decisions, understanding of customers' and providers' (hosts) behavior and performance on the platform, guiding marketing initiatives, implementation of innovative additional services and much more.\n",
        "\n",
        "This dataset has around 49,000 observations in it with 16 columns and it is a mix between categorical and numeric values.\n",
        "Explore and analyze the data to discover key understandings (not limited to these) such as :\n",
        "\n",
        "What can we learn about different hosts and areas?\n",
        "\n",
        "What can we learn from predictions? (ex: locations, prices, reviews, etc)\n",
        "\n",
        "Which hosts are the busiest and why?\n",
        "\n",
        "Is there any noticeable difference of traffic among different areas and what could be the reason for it?"
      ],
      "metadata": {
        "id": "F6v_1wHtG2nS"
      }
    },
    {
      "cell_type": "markdown",
      "source": [
        "# **GitHub Link -**"
      ],
      "metadata": {
        "id": "w6K7xa23Elo4"
      }
    },
    {
      "cell_type": "markdown",
      "source": [
        "https://github.com/arun-saraswat/Data_Analysis"
      ],
      "metadata": {
        "id": "h1o69JH3Eqqn"
      }
    },
    {
      "cell_type": "markdown",
      "source": [
        "# ***Let's Begin !***"
      ],
      "metadata": {
        "id": "O_i_v8NEhb9l"
      }
    },
    {
      "cell_type": "markdown",
      "source": [
        "## ***1. Know Your Data***"
      ],
      "metadata": {
        "id": "HhfV-JJviCcP"
      }
    },
    {
      "cell_type": "markdown",
      "source": [
        "### Import Libraries"
      ],
      "metadata": {
        "id": "Y3lxredqlCYt"
      }
    },
    {
      "cell_type": "code",
      "source": [
        "# Import Libraries\n",
        "import numpy as np\n",
        "import pandas as pd\n",
        "import matplotlib.pyplot as plt\n",
        "%matplotlib inline\n",
        "import seaborn as sns"
      ],
      "metadata": {
        "id": "M8Vqi-pPk-HR"
      },
      "execution_count": null,
      "outputs": []
    },
    {
      "cell_type": "markdown",
      "source": [
        "### Dataset Loading"
      ],
      "metadata": {
        "id": "3RnN4peoiCZX"
      }
    },
    {
      "cell_type": "code",
      "source": [
        "# Load Dataset\n",
        "from google.colab import drive\n",
        "drive.mount('/content/drive')\n",
        "#using pandas library and 'read_csv' to read Airbnb csv file\n",
        "airbnb=pd.read_csv(\"/content/drive/MyDrive/Colab Notebooks/Airbnb NYC 2019.csv\")\n"
      ],
      "metadata": {
        "id": "4CkvbW_SlZ_R"
      },
      "execution_count": null,
      "outputs": []
    },
    {
      "cell_type": "markdown",
      "source": [
        "### Dataset First View"
      ],
      "metadata": {
        "id": "x71ZqKXriCWQ"
      }
    },
    {
      "cell_type": "code",
      "source": [
        "# Dataset First Look\n",
        "airbnb.head()"
      ],
      "metadata": {
        "id": "LWNFOSvLl09H"
      },
      "execution_count": null,
      "outputs": []
    },
    {
      "cell_type": "markdown",
      "source": [
        "### Dataset Rows & Columns count"
      ],
      "metadata": {
        "id": "7hBIi_osiCS2"
      }
    },
    {
      "cell_type": "code",
      "source": [
        "# Dataset Rows & Columns count\n",
        "airbnb.shape"
      ],
      "metadata": {
        "id": "Kllu7SJgmLij"
      },
      "execution_count": null,
      "outputs": []
    },
    {
      "cell_type": "markdown",
      "source": [
        "### Dataset Information"
      ],
      "metadata": {
        "id": "JlHwYmJAmNHm"
      }
    },
    {
      "cell_type": "code",
      "source": [
        "# Dataset Info\n",
        "airbnb.info()"
      ],
      "metadata": {
        "id": "e9hRXRi6meOf"
      },
      "execution_count": null,
      "outputs": []
    },
    {
      "cell_type": "markdown",
      "source": [
        "#### Duplicate Values"
      ],
      "metadata": {
        "id": "35m5QtbWiB9F"
      }
    },
    {
      "cell_type": "code",
      "source": [
        "# Dataset Duplicate Value Count\n",
        "airbnb.duplicated().sum()"
      ],
      "metadata": {
        "id": "1sLdpKYkmox0"
      },
      "execution_count": null,
      "outputs": []
    },
    {
      "cell_type": "markdown",
      "source": [
        "#### Missing Values/Null Values"
      ],
      "metadata": {
        "id": "PoPl-ycgm1ru"
      }
    },
    {
      "cell_type": "code",
      "source": [
        "# Missing Values/Null Values Count\n",
        "airbnb.isnull().sum()"
      ],
      "metadata": {
        "id": "GgHWkxvamxVg"
      },
      "execution_count": null,
      "outputs": []
    },
    {
      "cell_type": "code",
      "source": [
        "# Visualizing the missing values\n",
        "# visualising using seaborn heatmap\n",
        "plt.figure(figsize=(10,6))\n",
        "sns.heatmap(airbnb.isnull().transpose(),\n",
        "            cmap=\"YlGnBu\",\n",
        "            cbar_kws={'label': 'Missing Data'})\n",
        "plt.show()"
      ],
      "metadata": {
        "id": "3q5wnI3om9sJ"
      },
      "execution_count": null,
      "outputs": []
    },
    {
      "cell_type": "markdown",
      "source": [
        "### What did you know about your dataset?"
      ],
      "metadata": {
        "id": "H0kj-8xxnORC"
      }
    },
    {
      "cell_type": "markdown",
      "source": [
        "This dataset has around 49,000 observations in it with 16 columns and it is a mix between categorical and numeric values."
      ],
      "metadata": {
        "id": "gfoNAAC-nUe_"
      }
    },
    {
      "cell_type": "markdown",
      "source": [
        "## ***2. Understanding Your Variables***"
      ],
      "metadata": {
        "id": "nA9Y7ga8ng1Z"
      }
    },
    {
      "cell_type": "code",
      "source": [
        "# Dataset Columns\n",
        "airbnb.columns"
      ],
      "metadata": {
        "id": "j7xfkqrt5Ag5"
      },
      "execution_count": null,
      "outputs": []
    },
    {
      "cell_type": "code",
      "source": [
        "# Dataset Describe\n",
        "airbnb[['id', 'name', 'host_id', 'host_name', 'neighbourhood_group',\n",
        "       'neighbourhood', 'latitude', 'longitude', 'room_type', 'price',\n",
        "       'minimum_nights', 'number_of_reviews', 'last_review',\n",
        "       'reviews_per_month', 'calculated_host_listings_count',\n",
        "       'availability_365']].describe()"
      ],
      "metadata": {
        "id": "DnOaZdaE5Q5t"
      },
      "execution_count": null,
      "outputs": []
    },
    {
      "cell_type": "markdown",
      "source": [
        "### Check Unique Values for each variable."
      ],
      "metadata": {
        "id": "u3PMJOP6ngxN"
      }
    },
    {
      "cell_type": "code",
      "source": [
        "# Check Unique Values for each variable.\n",
        "unique_airbnb = pd.unique(airbnb[['id', 'name', 'host_id', 'host_name', 'neighbourhood_group',\n",
        "       'neighbourhood', 'latitude', 'longitude', 'room_type', 'price',\n",
        "       'minimum_nights', 'number_of_reviews', 'last_review',\n",
        "       'reviews_per_month', 'calculated_host_listings_count',\n",
        "       'availability_365']].values.ravel())\n",
        "unique_airbnb"
      ],
      "metadata": {
        "id": "zms12Yq5n-jE"
      },
      "execution_count": null,
      "outputs": []
    },
    {
      "cell_type": "markdown",
      "source": [
        "## 3. ***Data Wrangling***"
      ],
      "metadata": {
        "id": "dauF4eBmngu3"
      }
    },
    {
      "cell_type": "markdown",
      "source": [
        "### Data Wrangling Code"
      ],
      "metadata": {
        "id": "bKJF3rekwFvQ"
      }
    },
    {
      "cell_type": "code",
      "source": [
        "# Write your code to make your dataset analysis ready.\n",
        "\n",
        "#replace the null values in reviews per month and last_review with zero\n",
        "airbnb.reviews_per_month.fillna(0, inplace=True)\n",
        "airbnb.last_review.fillna(0, inplace=True)\n",
        "\n",
        "#after cleaning\n",
        "airbnb.isnull().sum()\n"
      ],
      "metadata": {
        "id": "wk-9a2fpoLcV"
      },
      "execution_count": null,
      "outputs": []
    },
    {
      "cell_type": "code",
      "source": [
        "#last five rows\n",
        "airbnb.tail()"
      ],
      "metadata": {
        "id": "e7OCYmep-9Mv"
      },
      "execution_count": null,
      "outputs": []
    },
    {
      "cell_type": "code",
      "source": [
        "#type of rooms in this data\n",
        "number_of_room_type = airbnb['room_type'].unique()\n",
        "number_of_room_type"
      ],
      "metadata": {
        "id": "9mPKaiZk_y8S"
      },
      "execution_count": null,
      "outputs": []
    },
    {
      "cell_type": "code",
      "source": [
        "#number of locations\n",
        "number_of_place=airbnb[\"neighbourhood_group\"].unique()\n",
        "number_of_place"
      ],
      "metadata": {
        "id": "fg10XlqgABLn"
      },
      "execution_count": null,
      "outputs": []
    },
    {
      "cell_type": "code",
      "source": [
        "#total rooms by locations\n",
        "total_room_by_location= airbnb.groupby(['neighbourhood_group', 'room_type']).size().reset_index(name=\"total_room\")\n",
        "print (total_room_by_location)"
      ],
      "metadata": {
        "id": "bgjHI5ZIH_gT"
      },
      "execution_count": null,
      "outputs": []
    },
    {
      "cell_type": "code",
      "source": [
        "#location vise total availability\n",
        "average_availability= airbnb.groupby(['neighbourhood_group'])['availability_365'].sum().reset_index()\n",
        "average_availability"
      ],
      "metadata": {
        "id": "BDPKH5W5KpzY"
      },
      "execution_count": null,
      "outputs": []
    },
    {
      "cell_type": "code",
      "source": [
        "#locations with total reviews\n",
        "location_reviews =airbnb.groupby(['neighbourhood_group'])['number_of_reviews'].sum().reset_index()\n",
        "location_reviews"
      ],
      "metadata": {
        "id": "KhYpvu1jKpso"
      },
      "execution_count": null,
      "outputs": []
    },
    {
      "cell_type": "code",
      "source": [
        "#price preditions with the help of reviews\n",
        "price_area = airbnb.groupby(['price'])['number_of_reviews'].max().reset_index()\n",
        "price_reviews=price_area.head(5)\n",
        "price_reviews"
      ],
      "metadata": {
        "id": "kiYqKsWKL17v"
      },
      "execution_count": null,
      "outputs": []
    },
    {
      "cell_type": "code",
      "source": [
        "#top five busiest hosts\n",
        "busiest_hosts = airbnb.groupby(['host_name','host_id','room_type'])['number_of_reviews'].max().reset_index()\n",
        "busiest_hosts = busiest_hosts.sort_values(by='number_of_reviews', ascending=False).head()\n",
        "busiest_hosts"
      ],
      "metadata": {
        "id": "9lsCpTkUi8HD"
      },
      "execution_count": null,
      "outputs": []
    },
    {
      "cell_type": "code",
      "source": [
        "#maximum bookings in hotelst type with locations\n",
        "traffic_areas = airbnb.groupby(['neighbourhood_group','room_type'])['minimum_nights'].count().reset_index()\n",
        "traffic_areas = traffic_areas.sort_values(by='minimum_nights', ascending=False)\n",
        "traffic_areas"
      ],
      "metadata": {
        "id": "vz4zlbe1jD0F"
      },
      "execution_count": null,
      "outputs": []
    },
    {
      "cell_type": "code",
      "source": [],
      "metadata": {
        "id": "vGKnHdoXkWbl"
      },
      "execution_count": null,
      "outputs": []
    },
    {
      "cell_type": "markdown",
      "source": [
        "### What all manipulations have you done and insights you found?"
      ],
      "metadata": {
        "id": "MSa1f5Uengrz"
      }
    },
    {
      "cell_type": "markdown",
      "source": [
        "Answer Here."
      ],
      "metadata": {
        "id": "LbyXE7I1olp8"
      }
    },
    {
      "cell_type": "markdown",
      "source": [
        "## ***4. Data Vizualization, Storytelling & Experimenting with charts : Understand the relationships between variables***"
      ],
      "metadata": {
        "id": "GF8Ens_Soomf"
      }
    },
    {
      "cell_type": "markdown",
      "source": [
        "#### Chart - 1"
      ],
      "metadata": {
        "id": "0wOQAZs5pc--"
      }
    },
    {
      "cell_type": "code",
      "source": [
        "# Chart - 1 visualization code\n",
        "#total hotels chart\n",
        "plt.figure(figsize=(10,6))\n",
        "plt.title(\"total hotels on location\",fontsize = 16)\n",
        "sns.countplot(data=airbnb,x='neighbourhood_group')\n",
        "plt.xlabel(\"neighbourhood_group\",fontsize = 16)\n",
        "plt.ylabel(\"count\",fontsize = 16)\n",
        "plt.show()"
      ],
      "metadata": {
        "id": "7v_ESjsspbW7"
      },
      "execution_count": null,
      "outputs": []
    },
    {
      "cell_type": "markdown",
      "source": [
        "#### Chart - 2"
      ],
      "metadata": {
        "id": "KSlN3yHqYklG"
      }
    },
    {
      "cell_type": "code",
      "source": [
        "# Chart - 2 visualization code\n",
        "#hotel share per location\n",
        "plt.figure(figsize=(10,6))\n",
        "plt.title(\"Neighbourhood Group\",fontsize = 16)\n",
        "plt.pie(airbnb.neighbourhood_group.value_counts(), labels=airbnb.neighbourhood_group.value_counts().index,autopct='%1.1f%%')\n",
        "plt.show()"
      ],
      "metadata": {
        "id": "R4YgtaqtYklH"
      },
      "execution_count": null,
      "outputs": []
    },
    {
      "cell_type": "markdown",
      "source": [
        "*The pie and bar chart above shows that Airbnb Listings in Manhattan, and Brooklyn has the highest share of hotels.*\n",
        "\n"
      ],
      "metadata": {
        "id": "99K_O1QFeCZ6"
      }
    },
    {
      "cell_type": "markdown",
      "source": [
        "#### Chart - 3"
      ],
      "metadata": {
        "id": "EM7whBJCYoAo"
      }
    },
    {
      "cell_type": "code",
      "source": [
        "# Chart - 3 visualization code\n",
        "#types of room\n",
        "plt.figure(figsize=(10,6))\n",
        "plt.title(\"Type of Room\",fontsize = 16)\n",
        "sns.countplot(data=airbnb,x='room_type')\n",
        "plt.xlabel(\"room_type\",fontsize=16)\n",
        "plt.ylabel(\"count\",fontsize=16)\n",
        "plt.show()"
      ],
      "metadata": {
        "id": "t6GMdE67YoAp"
      },
      "execution_count": null,
      "outputs": []
    },
    {
      "cell_type": "markdown",
      "source": [
        "*We can see that the Entire Home/Apartment has the highest share, followed by the Private Room, and the least preferred is Shared Room.*\n",
        "\n"
      ],
      "metadata": {
        "id": "bwMxCDoHeGsI"
      }
    },
    {
      "cell_type": "markdown",
      "source": [
        "#### Chart - 4"
      ],
      "metadata": {
        "id": "4Of9eVA-YrdM"
      }
    },
    {
      "cell_type": "code",
      "source": [
        "# Chart - 4 visualization code\n",
        "#rooms type per location\n",
        "plt.figure(figsize=(10,6))\n",
        "plt.title(\"Room Type on Neighbourhood Group\",fontsize=16)\n",
        "sns.countplot(data=airbnb,x='neighbourhood_group',hue=airbnb.room_type)\n",
        "plt.xlabel(\"neighbourhood_group\",fontsize=16)\n",
        "plt.ylabel(\"count\",fontsize=16)\n",
        "plt.show()"
      ],
      "metadata": {
        "id": "irlUoxc8YrdO"
      },
      "execution_count": null,
      "outputs": []
    },
    {
      "cell_type": "markdown",
      "source": [
        "*The graph shows that the Entire Home/Apartment is listed most near Manhattan, while Private Rooms and Apartments Near Brooklyn are Nearly equal.*"
      ],
      "metadata": {
        "id": "1pYMx2OqeShf"
      }
    },
    {
      "cell_type": "markdown",
      "source": [
        "#### Chart - 5"
      ],
      "metadata": {
        "id": "bamQiAODYuh1"
      }
    },
    {
      "cell_type": "code",
      "source": [
        "# Chart - 5 visualization code\n",
        "#availability per year\n",
        "plt.figure(figsize=(10,6))\n",
        "plt.title(\"Neighbourhood Group vs. Availability Room\",fontsize=16)\n",
        "sns.boxplot(data=airbnb, x='neighbourhood_group',y='availability_365')\n",
        "plt.xlabel('neighbourhood_group',fontsize=16)\n",
        "plt.ylabel(\"availability_365\",fontsize=16)\n",
        "plt.show()"
      ],
      "metadata": {
        "id": "TIJwrbroYuh3"
      },
      "execution_count": null,
      "outputs": []
    },
    {
      "cell_type": "markdown",
      "source": [
        "*The above box plot shows the relationship between the availability room and neighborhood group.*\n",
        "\n"
      ],
      "metadata": {
        "id": "ZtOYZaGsd3n6"
      }
    },
    {
      "cell_type": "markdown",
      "source": [
        "#### Chart - 6"
      ],
      "metadata": {
        "id": "OH-pJp9IphqM"
      }
    },
    {
      "cell_type": "code",
      "source": [
        "# Chart - 6 visualization code\n",
        "#locations\n",
        "plt.figure(figsize=(10,6))\n",
        "sns.scatterplot(x=airbnb.longitude,y=airbnb.latitude,hue=airbnb.neighbourhood_group)\n",
        "plt.xlabel(\"longitude\",fontsize=16)\n",
        "plt.ylabel(\"latitude\",fontsize=16)\n",
        "plt.title(\"location of neighbourhood_group \",fontsize=16)\n",
        "plt.show()"
      ],
      "metadata": {
        "id": "kuRf4wtuphqN"
      },
      "execution_count": null,
      "outputs": []
    },
    {
      "cell_type": "markdown",
      "source": [
        "*above scatterplot shows that the hotels listed by location*\n",
        "\n"
      ],
      "metadata": {
        "id": "qQDDcAovdz7S"
      }
    },
    {
      "cell_type": "markdown",
      "source": [
        "#### Chart - 7"
      ],
      "metadata": {
        "id": "PIIx-8_IphqN"
      }
    },
    {
      "cell_type": "code",
      "source": [
        "# Chart - 7 visualization code\n",
        "#price hike\n",
        "airbnb[airbnb.price<100].plot(kind='scatter', x='longitude',y='latitude',label='Map of Price Distribution',c='price',cmap=plt.get_cmap('jet'),colorbar=True,alpha=0.4)\n",
        "plt.show()"
      ],
      "metadata": {
        "id": "lqAIGUfyphqO"
      },
      "execution_count": null,
      "outputs": []
    },
    {
      "cell_type": "markdown",
      "source": [
        "*The information we got from the graph above is red color dots are the rooms with a higher price. Also, we can see that the Manhattan region has a more expensive room price.*"
      ],
      "metadata": {
        "id": "JIKB52iBdwTA"
      }
    },
    {
      "cell_type": "markdown",
      "source": [
        "#### Chart - 8"
      ],
      "metadata": {
        "id": "BZR9WyysphqO"
      }
    },
    {
      "cell_type": "code",
      "source": [
        "# Chart - 8 visualization code\n",
        "#prices per location\n",
        "plt.figure(figsize=(10,6))\n",
        "plt.title(\"Neighbourhood Group Price Distribution<500\",fontsize=16)\n",
        "sns.boxplot(y=\"price\",x ='neighbourhood_group',data = airbnb[airbnb.price<500])\n",
        "plt.xlabel(\"neighbourhood_group\",fontsize=16)\n",
        "plt.ylabel(\"price\",fontsize=16)\n",
        "plt.show()"
      ],
      "metadata": {
        "id": "TdPTWpAVphqO"
      },
      "execution_count": null,
      "outputs": []
    },
    {
      "cell_type": "markdown",
      "source": [
        "*1-We can say that the Manhattan has the highest price range for the listings,*followed by Brooklyn\n",
        "\n",
        "2-*Queens and Staten Island seem to have a very similar distribution*,\n",
        "\n",
        "3-*The Bronx is the cheapest*."
      ],
      "metadata": {
        "id": "XKYI6dJsdp-w"
      }
    },
    {
      "cell_type": "markdown",
      "source": [
        "#### Chart - 9"
      ],
      "metadata": {
        "id": "YJ55k-q6phqO"
      }
    },
    {
      "cell_type": "code",
      "source": [
        "# Chart - 9 visualization code\n",
        "#number of reviews per area\n",
        "area = location_reviews['neighbourhood_group']\n",
        "review = location_reviews['number_of_reviews']\n",
        "\n",
        "fig = plt.figure(figsize = (10, 6))\n",
        "plt.bar(area,review, width = 0.4)\n",
        "plt.title(\"Area vs Number of reviews\",fontsize=16)\n",
        "plt.xlabel(\"Area\",fontsize=16)\n",
        "plt.ylabel(\"Reviews\",fontsize=16)\n",
        "plt.show()"
      ],
      "metadata": {
        "id": "B2aS4O1ophqO"
      },
      "execution_count": null,
      "outputs": []
    },
    {
      "cell_type": "markdown",
      "source": [
        "*above bar plot shows that the brooklyn has a most number of reviews followed by manhattan , least reviews on staten island*\n",
        "\n"
      ],
      "metadata": {
        "id": "MieKdP4Pdj43"
      }
    },
    {
      "cell_type": "markdown",
      "source": [
        "#### Chart - 10"
      ],
      "metadata": {
        "id": "U2RJ9gkRphqQ"
      }
    },
    {
      "cell_type": "code",
      "source": [
        "# Chart - 10 visualization code\n",
        "#prices and review relation\n",
        "price_reviews.plot()\n",
        "plt.title('price vs number of review',fontsize = 16)\n",
        "plt.xlabel(\"Price\",fontsize = 16)\n",
        "plt.ylabel(\"Number_of_review\",fontsize = 16)\n",
        "plt.show()"
      ],
      "metadata": {
        "id": "GM7a4YP4phqQ"
      },
      "execution_count": null,
      "outputs": []
    },
    {
      "cell_type": "markdown",
      "source": [
        "*From the above Analysis we can say that most people prefer to stay in place where price is less.*\n",
        "\n"
      ],
      "metadata": {
        "id": "XCTbQMxIddP-"
      }
    },
    {
      "cell_type": "markdown",
      "source": [
        "#### Chart - 11"
      ],
      "metadata": {
        "id": "x-EpHcCOp1ci"
      }
    },
    {
      "cell_type": "code",
      "source": [
        "# Chart - 11 visualization code\n",
        "#top most hosts were maximum booking\n",
        "name = busiest_hosts['host_name']\n",
        "reviews = busiest_hosts['number_of_reviews']\n",
        "\n",
        "fig = plt.figure(figsize = (10,6))\n",
        "plt.bar(name, reviews ,width = 0.4)\n",
        "plt.xlabel(\"Name of the Host\",fontsize = 16)\n",
        "plt.ylabel(\"Number of Reviews\",fontsize = 16)\n",
        "plt.title(\"Top_5_Busiest_Hosts\",fontsize = 16)\n",
        "plt.show()"
      ],
      "metadata": {
        "id": "mAQTIvtqp1cj"
      },
      "execution_count": null,
      "outputs": []
    },
    {
      "cell_type": "markdown",
      "source": [
        "*from the above bar chart we have a top five busiest hosts..*\n",
        "\n",
        "1-*Dona*\n",
        "\n",
        "2-*Jj*\n",
        "\n",
        "3-*Maya*\n",
        "\n",
        "4-*Carol*\n",
        "\n",
        "5-*Danielle*"
      ],
      "metadata": {
        "id": "UCunrHObXuu-"
      }
    },
    {
      "cell_type": "markdown",
      "source": [
        "#### Chart - 12"
      ],
      "metadata": {
        "id": "n3dbpmDWp1ck"
      }
    },
    {
      "cell_type": "code",
      "source": [
        "# Chart - 12 visualization code\n",
        "#traffic areas in hotel type\n",
        "room_type = traffic_areas['room_type']\n",
        "stayed = traffic_areas['minimum_nights']\n",
        "\n",
        "fig = plt.figure(figsize = (8,5))\n",
        "plt.bar(room_type, stayed,width = 0.4)\n",
        "plt.xlabel(\"Room Type\",fontsize = 16)\n",
        "plt.ylabel(\"Minimum number of nights stayed\",fontsize = 16)\n",
        "plt.title(\"Traffic Areas\",fontsize = 16)\n",
        "plt.show()"
      ],
      "metadata": {
        "id": "bwevp1tKp1ck"
      },
      "execution_count": null,
      "outputs": []
    },
    {
      "cell_type": "markdown",
      "source": [
        "*From the Above Analysis We can Say that People are preferring Entire home/apt or Private room which are present in Manhattan, Brooklyn, Queens and people are preferring listings which are less in price.*"
      ],
      "metadata": {
        "id": "O--U01Z1efBa"
      }
    },
    {
      "cell_type": "markdown",
      "source": [
        "# **Conclusion**"
      ],
      "metadata": {
        "id": "gCX9965dhzqZ"
      }
    },
    {
      "cell_type": "markdown",
      "source": [
        "1- The people who prefer to stay in an Entire home or Apartment are going to stay a bit longer in that particular Neighborhood only.\n",
        "\n",
        "2- The people who prefer to stay in a Private room won't stay longer as compared to a Home or Apartment.\n",
        "\n",
        "3- Most people prefer to pay less price.\n",
        "\n",
        "4- If there are more number of reviews for a particular neighborhood group that means that a place is a tourist place.\n",
        "\n",
        "5- If people are not staying more than one night means they are travelers.\n",
        "\n",
        "6- For the given data set I found that there are a total of 221 different areas out of which “Williamsburg” has a maximum number of listings.\n",
        "\n",
        "7- There are a total of 37457 hosts and the host with host id- 219517861 “Sonder” is the top host with 327 listings.\n",
        "\n",
        "8- No strong correlation was observed between price, reviews, and location.\n",
        "\n",
        "9- Out of 5 different locations in the dataset, Manhattan is the most crowded location with 44.3% of listings.*\n",
        "\n",
        "10- Top five busiest host are Dona,Jj,Maya,Carol,Danielle."
      ],
      "metadata": {
        "id": "C0KRxZC0rB0j"
      }
    },
    {
      "cell_type": "markdown",
      "source": [
        "### ***Hurrah! You have successfully completed your EDA Capstone Project !!!***"
      ],
      "metadata": {
        "id": "gIfDvo9L0UH2"
      }
    },
    {
      "cell_type": "code",
      "source": [],
      "metadata": {
        "id": "03qPLza9rlIP"
      },
      "execution_count": null,
      "outputs": []
    }
  ]
}